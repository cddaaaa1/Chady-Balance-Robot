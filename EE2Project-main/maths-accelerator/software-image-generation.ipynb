{
 "cells": [
  {
   "cell_type": "markdown",
   "id": "266e729b",
   "metadata": {},
   "source": [
    "# Software Image Generation\n",
    "This notebook demonstrates generating a test image in software and displaying it on a HDMI device\n",
    "\n",
    "First, some modules are loaded and the Pynq is configured:"
   ]
  },
  {
   "cell_type": "code",
   "execution_count": 4,
   "id": "e9b155c6",
   "metadata": {},
   "outputs": [
    {
     "name": "stdout",
     "output_type": "stream",
     "text": [
      "The cython extension is already loaded. To reload it, use:\n",
      "  %reload_ext cython\n"
     ]
    }
   ],
   "source": [
    "%load_ext cython\n",
    "import cython\n",
    "from pynq.overlays.base import BaseOverlay\n",
    "from pynq.lib.video import *\n",
    "\n",
    "base = BaseOverlay(\"base.bit\")\n",
    "hdmi_out = base.video.hdmi_out"
   ]
  },
  {
   "cell_type": "markdown",
   "id": "e3880faf",
   "metadata": {},
   "source": [
    "We'll define a function to generate a test image. A NumPy iterator is used to loop over every byte in an image array `f`. Each pixel element (red, green, blue) is accessed separately and written with an 8-bit intensity. First a colour (hue) index h is calculated by summing:\n",
    "\n",
    "- The pixel coordinates, accessed with it.multi_index[0] and it.multi_index[1]\n",
    "- The colour of the element it.multi_index[2] multiplied by 85, so that the red, green and blue peaks are offset by 1/3 of the repeating pattern\n",
    "- The frame number `n` multiplied by 32, so that the pattern shifts on every frame\n",
    "\n",
    "The result is truncated to an 8-bit number with a modulo operation, which causes a repeating cycle of colours.\n",
    "\n",
    "A piecewise conversion function is used to convert the hue to an intensity. Values of 85 and below result in a linear ramp up of intensity, values 86 to 171 ramp down in intensity and values above 171 are set to 0."
   ]
  },
  {
   "cell_type": "code",
   "execution_count": 24,
   "id": "1790f11a",
   "metadata": {},
   "outputs": [],
   "source": [
    "def genImage(f, n):\n",
    "  with np.nditer(f, flags=['multi_index'], op_flags=['writeonly']) as it:\n",
    "    for x in it:\n",
    "        h = (it.multi_index[0]+it.multi_index[1]+it.multi_index[2]*85+n) % 256\n",
    "        if h <= 85:\n",
    "            x[...] = h*3\n",
    "        elif h <= 171:\n",
    "            x[...] = (171-h)*3\n",
    "        else:\n",
    "            x[...] = 0"
   ]
  },
  {
   "cell_type": "markdown",
   "id": "3f3cc1e8",
   "metadata": {},
   "source": [
    "We can test it in the notebook using PIL:"
   ]
  },
  {
   "cell_type": "code",
   "execution_count": 25,
   "id": "ee294b57",
   "metadata": {},
   "outputs": [
    {
     "data": {
      "image/png": "[encoded data removed]",
      "text/plain": [
       "<PIL.Image.Image image mode=RGB size=640x480 at 0xAC1234A8>"
      ]
     },
     "execution_count": 25,
     "metadata": {},
     "output_type": "execute_result"
    }
   ],
   "source": [
    "import PIL.Image\n",
    "import numpy\n",
    "\n",
    "frame = numpy.zeros((480,640,3), dtype = 'uint8')\n",
    "genImage(frame,0)\n",
    "image = PIL.Image.fromarray(frame)\n",
    "image                    "
   ]
  },
  {
   "cell_type": "markdown",
   "id": "ab9d066b",
   "metadata": {},
   "source": [
    "The image can be displayed on the HDMI output. First, the HDMI output logic is initialised:"
   ]
  },
  {
   "cell_type": "code",
   "execution_count": 5,
   "id": "c8f61b0c",
   "metadata": {},
   "outputs": [
    {
     "data": {
      "text/plain": [
       "<contextlib._GeneratorContextManager at 0xac143670>"
      ]
     },
     "execution_count": 5,
     "metadata": {},
     "output_type": "execute_result"
    }
   ],
   "source": [
    "videoMode = common.VideoMode(640, 480, 24)\n",
    "hdmi_out.configure(videoMode)\n",
    "hdmi_out.cacheable_frames = False\n",
    "\n",
    "hdmi_out.start()"
   ]
  },
  {
   "cell_type": "markdown",
   "id": "8a6bf657",
   "metadata": {},
   "source": [
    "Now we can generate a sequence of frames and display them. Each time, a reference to a new array in memory is created with `hdmi_out.newframe()`. Unlike normal Python objects, the library ensures that this array is accessible to the hardware. Changing the `n` parameter shifts the image in each frame."
   ]
  },
  {
   "cell_type": "code",
   "execution_count": 27,
   "id": "ea6c9ed3",
   "metadata": {
    "scrolled": false
   },
   "outputs": [
    {
     "name": "stdout",
     "output_type": "stream",
     "text": [
      ".....\n",
      "0.08 Frames per second\n"
     ]
    }
   ],
   "source": [
    "from time import process_time\n",
    "FRAMES = 5\n",
    "FRAME_STEP = 32\n",
    "start = process_time()\n",
    "\n",
    "for n in range (FRAMES):\n",
    "  f = hdmi_out.newframe()\n",
    "\n",
    "  genImage(f,n*32)\n",
    "    \n",
    "  hdmi_out.writeframe(f)\n",
    "  print('.', end='')\n",
    "    \n",
    "print(\"\\n{:.2f} Frames per second\".format(FRAMES/(process_time()-start)))  "
   ]
  },
  {
   "cell_type": "markdown",
   "id": "166e33b7",
   "metadata": {},
   "source": [
    "Notice how slow this example is, just to generate a simple test pattern. An interpreted language like Python is not a good choice for implmenting tight loops like pixel generation, particularly on the Pynq CPU core.\n",
    "\n",
    "We can get a large speedup by compiling the image generation kernel into a C-like object. Cython offers a good trade-off between productivity and performance."
   ]
  },
  {
   "cell_type": "markdown",
   "id": "69876983",
   "metadata": {},
   "source": [
    "The cell below defines a new image generator function that will be compiled with Cython. Jupyter performs the compilation when the cell is executed.\n",
    "The function is valid Python code, but all the variables have been annotated with types and the input array is defined as a three-dimensional array of `chars` (bytes) with `cython.char[:, :, :]`. The image generation kernel is the same as above, except that the array is indexed directly with one nested loop per dimension, instead of using the NumPy iterator. The cell takes a while to run due to the compilation, but this only needs to happen when the code in the function is changed"
   ]
  },
  {
   "cell_type": "code",
   "execution_count": 6,
   "id": "707d209a",
   "metadata": {},
   "outputs": [
    {
     "ename": "TypeError",
     "evalue": "dist must be a Distribution instance",
     "output_type": "error",
     "traceback": [
      "\u001b[0;31m---------------------------------------------------------------------------\u001b[0m",
      "\u001b[0;31mAttributeError\u001b[0m                            Traceback (most recent call last)",
      "File \u001b[0;32m/usr/local/share/pynq-venv/lib/python3.10/site-packages/Cython/Build/IpythonMagic.py:496\u001b[0m, in \u001b[0;36mCythonMagics.so_ext\u001b[0;34m(self)\u001b[0m\n\u001b[1;32m    495\u001b[0m \u001b[38;5;28;01mtry\u001b[39;00m:\n\u001b[0;32m--> 496\u001b[0m     \u001b[38;5;28;01mreturn\u001b[39;00m \u001b[38;5;28;43mself\u001b[39;49m\u001b[38;5;241;43m.\u001b[39;49m\u001b[43m_so_ext\u001b[49m\n\u001b[1;32m    497\u001b[0m \u001b[38;5;28;01mexcept\u001b[39;00m \u001b[38;5;167;01mAttributeError\u001b[39;00m:\n",
      "\u001b[0;31mAttributeError\u001b[0m: 'CythonMagics' object has no attribute '_so_ext'",
      "\nDuring handling of the above exception, another exception occurred:\n",
      "\u001b[0;31mTypeError\u001b[0m                                 Traceback (most recent call last)",
      "Input \u001b[0;32mIn [6]\u001b[0m, in \u001b[0;36m<cell line: 1>\u001b[0;34m()\u001b[0m\n\u001b[0;32m----> 1\u001b[0m \u001b[43mget_ipython\u001b[49m\u001b[43m(\u001b[49m\u001b[43m)\u001b[49m\u001b[38;5;241;43m.\u001b[39;49m\u001b[43mrun_cell_magic\u001b[49m\u001b[43m(\u001b[49m\u001b[38;5;124;43m'\u001b[39;49m\u001b[38;5;124;43mcython\u001b[39;49m\u001b[38;5;124;43m'\u001b[39;49m\u001b[43m,\u001b[49m\u001b[43m \u001b[49m\u001b[38;5;124;43m'\u001b[39;49m\u001b[38;5;124;43m'\u001b[39;49m\u001b[43m,\u001b[49m\u001b[43m \u001b[49m\u001b[38;5;124;43m'\u001b[39;49m\u001b[38;5;130;43;01m\\n\u001b[39;49;00m\u001b[38;5;124;43mdef genImage_c(arr: cython.char[:, :, :], n: cython.int):\u001b[39;49m\u001b[38;5;130;43;01m\\n\u001b[39;49;00m\u001b[38;5;124;43m    y_max: Py_ssize_t  = arr.shape[0]\u001b[39;49m\u001b[38;5;130;43;01m\\n\u001b[39;49;00m\u001b[38;5;124;43m    x_max: Py_ssize_t  = arr.shape[1]\u001b[39;49m\u001b[38;5;130;43;01m\\n\u001b[39;49;00m\u001b[38;5;124;43m    c_max: Py_ssize_t  = arr.shape[2]\u001b[39;49m\u001b[38;5;130;43;01m\\n\u001b[39;49;00m\u001b[38;5;124;43m    \u001b[39;49m\u001b[38;5;130;43;01m\\n\u001b[39;49;00m\u001b[38;5;124;43m    x: Py_ssize_t\u001b[39;49m\u001b[38;5;130;43;01m\\n\u001b[39;49;00m\u001b[38;5;124;43m    y: Py_ssize_t\u001b[39;49m\u001b[38;5;130;43;01m\\n\u001b[39;49;00m\u001b[38;5;124;43m    c: Py_ssize_t\u001b[39;49m\u001b[38;5;130;43;01m\\n\u001b[39;49;00m\u001b[38;5;124;43m        \u001b[39;49m\u001b[38;5;130;43;01m\\n\u001b[39;49;00m\u001b[38;5;124;43m    for x in range(x_max):\u001b[39;49m\u001b[38;5;130;43;01m\\n\u001b[39;49;00m\u001b[38;5;124;43m      for y in range(y_max):\u001b[39;49m\u001b[38;5;130;43;01m\\n\u001b[39;49;00m\u001b[38;5;124;43m        for c in range(c_max):\u001b[39;49m\u001b[38;5;130;43;01m\\n\u001b[39;49;00m\u001b[38;5;124;43m            h = (x+y+c*85+n) \u001b[39;49m\u001b[38;5;124;43m%\u001b[39;49m\u001b[38;5;124;43m 256\u001b[39;49m\u001b[38;5;130;43;01m\\n\u001b[39;49;00m\u001b[38;5;124;43m            if h <= 85:\u001b[39;49m\u001b[38;5;130;43;01m\\n\u001b[39;49;00m\u001b[38;5;124;43m                arr[y,x,c] = h*3\u001b[39;49m\u001b[38;5;130;43;01m\\n\u001b[39;49;00m\u001b[38;5;124;43m            elif h <= 171:\u001b[39;49m\u001b[38;5;130;43;01m\\n\u001b[39;49;00m\u001b[38;5;124;43m                arr[y,x,c] = (171-h)*3\u001b[39;49m\u001b[38;5;130;43;01m\\n\u001b[39;49;00m\u001b[38;5;124;43m            else:\u001b[39;49m\u001b[38;5;130;43;01m\\n\u001b[39;49;00m\u001b[38;5;124;43m                arr[y,x,c] = 0\u001b[39;49m\u001b[38;5;130;43;01m\\n\u001b[39;49;00m\u001b[38;5;124;43m'\u001b[39;49m\u001b[43m)\u001b[49m\n",
      "File \u001b[0;32m/usr/local/share/pynq-venv/lib/python3.10/site-packages/IPython/core/interactiveshell.py:2358\u001b[0m, in \u001b[0;36mInteractiveShell.run_cell_magic\u001b[0;34m(self, magic_name, line, cell)\u001b[0m\n\u001b[1;32m   2356\u001b[0m \u001b[38;5;28;01mwith\u001b[39;00m \u001b[38;5;28mself\u001b[39m\u001b[38;5;241m.\u001b[39mbuiltin_trap:\n\u001b[1;32m   2357\u001b[0m     args \u001b[38;5;241m=\u001b[39m (magic_arg_s, cell)\n\u001b[0;32m-> 2358\u001b[0m     result \u001b[38;5;241m=\u001b[39m \u001b[43mfn\u001b[49m\u001b[43m(\u001b[49m\u001b[38;5;241;43m*\u001b[39;49m\u001b[43margs\u001b[49m\u001b[43m,\u001b[49m\u001b[43m \u001b[49m\u001b[38;5;241;43m*\u001b[39;49m\u001b[38;5;241;43m*\u001b[39;49m\u001b[43mkwargs\u001b[49m\u001b[43m)\u001b[49m\n\u001b[1;32m   2359\u001b[0m \u001b[38;5;28;01mreturn\u001b[39;00m result\n",
      "File \u001b[0;32m/usr/local/share/pynq-venv/lib/python3.10/site-packages/Cython/Build/IpythonMagic.py:322\u001b[0m, in \u001b[0;36mCythonMagics.cython\u001b[0;34m(self, line, cell)\u001b[0m\n\u001b[1;32m    320\u001b[0m     module_name \u001b[38;5;241m=\u001b[39m \u001b[38;5;124m\"\u001b[39m\u001b[38;5;124m_cython_magic_\u001b[39m\u001b[38;5;124m\"\u001b[39m \u001b[38;5;241m+\u001b[39m hashlib\u001b[38;5;241m.\u001b[39mmd5(\u001b[38;5;28mstr\u001b[39m(key)\u001b[38;5;241m.\u001b[39mencode(\u001b[38;5;124m'\u001b[39m\u001b[38;5;124mutf-8\u001b[39m\u001b[38;5;124m'\u001b[39m))\u001b[38;5;241m.\u001b[39mhexdigest()\n\u001b[1;32m    321\u001b[0m html_file \u001b[38;5;241m=\u001b[39m os\u001b[38;5;241m.\u001b[39mpath\u001b[38;5;241m.\u001b[39mjoin(lib_dir, module_name \u001b[38;5;241m+\u001b[39m \u001b[38;5;124m'\u001b[39m\u001b[38;5;124m.html\u001b[39m\u001b[38;5;124m'\u001b[39m)\n\u001b[0;32m--> 322\u001b[0m module_path \u001b[38;5;241m=\u001b[39m os\u001b[38;5;241m.\u001b[39mpath\u001b[38;5;241m.\u001b[39mjoin(lib_dir, module_name \u001b[38;5;241m+\u001b[39m \u001b[38;5;28;43mself\u001b[39;49m\u001b[38;5;241;43m.\u001b[39;49m\u001b[43mso_ext\u001b[49m)\n\u001b[1;32m    324\u001b[0m have_module \u001b[38;5;241m=\u001b[39m os\u001b[38;5;241m.\u001b[39mpath\u001b[38;5;241m.\u001b[39misfile(module_path)\n\u001b[1;32m    325\u001b[0m need_cythonize \u001b[38;5;241m=\u001b[39m args\u001b[38;5;241m.\u001b[39mpgo \u001b[38;5;129;01mor\u001b[39;00m \u001b[38;5;129;01mnot\u001b[39;00m have_module\n",
      "File \u001b[0;32m/usr/local/share/pynq-venv/lib/python3.10/site-packages/Cython/Build/IpythonMagic.py:498\u001b[0m, in \u001b[0;36mCythonMagics.so_ext\u001b[0;34m(self)\u001b[0m\n\u001b[1;32m    496\u001b[0m     \u001b[38;5;28;01mreturn\u001b[39;00m \u001b[38;5;28mself\u001b[39m\u001b[38;5;241m.\u001b[39m_so_ext\n\u001b[1;32m    497\u001b[0m \u001b[38;5;28;01mexcept\u001b[39;00m \u001b[38;5;167;01mAttributeError\u001b[39;00m:\n\u001b[0;32m--> 498\u001b[0m     \u001b[38;5;28mself\u001b[39m\u001b[38;5;241m.\u001b[39m_so_ext \u001b[38;5;241m=\u001b[39m \u001b[38;5;28;43mself\u001b[39;49m\u001b[38;5;241;43m.\u001b[39;49m\u001b[43m_get_build_extension\u001b[49m\u001b[43m(\u001b[49m\u001b[43m)\u001b[49m\u001b[38;5;241m.\u001b[39mget_ext_filename(\u001b[38;5;124m'\u001b[39m\u001b[38;5;124m'\u001b[39m)\n\u001b[1;32m    499\u001b[0m     \u001b[38;5;28;01mreturn\u001b[39;00m \u001b[38;5;28mself\u001b[39m\u001b[38;5;241m.\u001b[39m_so_ext\n",
      "File \u001b[0;32m/usr/local/share/pynq-venv/lib/python3.10/site-packages/Cython/Build/IpythonMagic.py:535\u001b[0m, in \u001b[0;36mCythonMagics._get_build_extension\u001b[0;34m(self, extension, lib_dir, temp_dir, pgo_step_name, _build_ext)\u001b[0m\n\u001b[1;32m    532\u001b[0m             add_pgo_flags(\u001b[38;5;28mself\u001b[39m, pgo_step_name, temp_dir)\n\u001b[1;32m    533\u001b[0m             base_build_ext\u001b[38;5;241m.\u001b[39mbuild_extensions(\u001b[38;5;28mself\u001b[39m)\n\u001b[0;32m--> 535\u001b[0m build_extension \u001b[38;5;241m=\u001b[39m \u001b[43m_build_ext\u001b[49m\u001b[43m(\u001b[49m\u001b[43mdist\u001b[49m\u001b[43m)\u001b[49m\n\u001b[1;32m    536\u001b[0m build_extension\u001b[38;5;241m.\u001b[39mfinalize_options()\n\u001b[1;32m    537\u001b[0m \u001b[38;5;28;01mif\u001b[39;00m temp_dir:\n",
      "File \u001b[0;32m/usr/lib/python3.10/distutils/cmd.py:57\u001b[0m, in \u001b[0;36mCommand.__init__\u001b[0;34m(self, dist)\u001b[0m\n\u001b[1;32m     54\u001b[0m \u001b[38;5;28;01mfrom\u001b[39;00m \u001b[38;5;21;01mdistutils\u001b[39;00m\u001b[38;5;21;01m.\u001b[39;00m\u001b[38;5;21;01mdist\u001b[39;00m \u001b[38;5;28;01mimport\u001b[39;00m Distribution\n\u001b[1;32m     56\u001b[0m \u001b[38;5;28;01mif\u001b[39;00m \u001b[38;5;129;01mnot\u001b[39;00m \u001b[38;5;28misinstance\u001b[39m(dist, Distribution):\n\u001b[0;32m---> 57\u001b[0m     \u001b[38;5;28;01mraise\u001b[39;00m \u001b[38;5;167;01mTypeError\u001b[39;00m(\u001b[38;5;124m\"\u001b[39m\u001b[38;5;124mdist must be a Distribution instance\u001b[39m\u001b[38;5;124m\"\u001b[39m)\n\u001b[1;32m     58\u001b[0m \u001b[38;5;28;01mif\u001b[39;00m \u001b[38;5;28mself\u001b[39m\u001b[38;5;241m.\u001b[39m\u001b[38;5;18m__class__\u001b[39m \u001b[38;5;129;01mis\u001b[39;00m Command:\n\u001b[1;32m     59\u001b[0m     \u001b[38;5;28;01mraise\u001b[39;00m \u001b[38;5;167;01mRuntimeError\u001b[39;00m(\u001b[38;5;124m\"\u001b[39m\u001b[38;5;124mCommand is an abstract class\u001b[39m\u001b[38;5;124m\"\u001b[39m)\n",
      "\u001b[0;31mTypeError\u001b[0m: dist must be a Distribution instance"
     ]
    }
   ],
   "source": [
    "%%cython\n",
    "\n",
    "def genImage_c(arr: cython.char[:, :, :], n: cython.int):\n",
    "    y_max: Py_ssize_t  = arr.shape[0]\n",
    "    x_max: Py_ssize_t  = arr.shape[1]\n",
    "    c_max: Py_ssize_t  = arr.shape[2]\n",
    "    \n",
    "    x: Py_ssize_t\n",
    "    y: Py_ssize_t\n",
    "    c: Py_ssize_t\n",
    "        \n",
    "    for x in range(x_max):\n",
    "      for y in range(y_max):\n",
    "        for c in range(c_max):\n",
    "            h = (x+y+c*85+n) % 256\n",
    "            if h <= 85:\n",
    "                arr[y,x,c] = h*3\n",
    "            elif h <= 171:\n",
    "                arr[y,x,c] = (171-h)*3\n",
    "            else:\n",
    "                arr[y,x,c] = 0"
   ]
  },
  {
   "cell_type": "code",
   "execution_count": 51,
   "id": "2ac20505",
   "metadata": {},
   "outputs": [
    {
     "name": "stdout",
     "output_type": "stream",
     "text": [
      "....................................................................................................\n",
      "2.16 Frames per second\n"
     ]
    }
   ],
   "source": [
    "FRAME_STEP = 2\n",
    "FRAMES = 50\n",
    "\n",
    "start = process_time()\n",
    "for n in range (FRAMES):\n",
    "  f = hdmi_out.newframe()\n",
    "  genImage_c(f,n*FRAME_STEP)\n",
    "  hdmi_out.writeframe(f)\n",
    "  print('.', end='')\n",
    "print(\"\\n{:.2f} Frames per second\".format(FRAMES/(process_time()-start)))"
   ]
  },
  {
   "cell_type": "markdown",
   "id": "64966993",
   "metadata": {},
   "source": [
    "That's much faster, but it's not quick enough to produce a smooth animation and this is still a really simple example. So we'll need to generate images in hardware.\n",
    "\n",
    "We need to stop the HDMI output to tidy up:"
   ]
  },
  {
   "cell_type": "code",
   "execution_count": 21,
   "id": "632324c8",
   "metadata": {},
   "outputs": [],
   "source": [
    "hdmi_out.close()"
   ]
  }
 ],
 "metadata": {
  "kernelspec": {
   "display_name": "Python 3 (ipykernel)",
   "language": "python",
   "name": "python3"
  },
  "language_info": {
   "codemirror_mode": {
    "name": "ipython",
    "version": 3
   },
   "file_extension": ".py",
   "mimetype": "text/x-python",
   "name": "python",
   "nbconvert_exporter": "python",
   "pygments_lexer": "ipython3",
   "version": "3.10.4"
  }
 },
 "nbformat": 4,
 "nbformat_minor": 5
}
