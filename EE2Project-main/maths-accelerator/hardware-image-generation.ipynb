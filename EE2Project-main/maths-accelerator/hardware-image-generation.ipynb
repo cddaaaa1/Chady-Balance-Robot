{
 "cells": [
  {
   "cell_type": "markdown",
   "id": "2813cc99",
   "metadata": {},
   "source": [
    "# Using the Custom Hardware Image Generator\n",
    "\n",
    "This notebook demonstrates hardware generation of an image stream and displaying it on the HDMI output. Before running it you will need to compile the example overlay with the frame generator in Verilog. Two files are generated:\n",
    "- a `.bit` file, containing the FPGA configuration bitstream\n",
    "- a `.hwh` (hardware handoff) file, containing information about the module heirarchy and memory map\n",
    "\n",
    "Copy both files to the user home directory on the Pynq operating system. Then load them (loading the `.bit` also reads the `.hwh` of the same name):"
   ]
  },
  {
   "cell_type": "code",
   "execution_count": 3,
   "id": "4dfaf0b8",
   "metadata": {},
   "outputs": [],
   "source": [
    "from pynq import Overlay\n",
    "from pynq.lib.video import *\n",
    "\n",
    "overlay = Overlay(\"/home/xilinx/elec50015.bit\")"
   ]
  },
  {
   "cell_type": "markdown",
   "id": "5943a220",
   "metadata": {},
   "source": [
    "The overlay object is automatically configured with a Python attribute structure that allows you to access the hardware as Python objects. Appropriate driver classes are instantiated where a hardware block is recognised by the Pynq library. Here we get a convenient handle to the VDMA connected to the image generator:"
   ]
  },
  {
   "cell_type": "code",
   "execution_count": 4,
   "id": "3786e8e2",
   "metadata": {},
   "outputs": [],
   "source": [
    "imgen_vdma = overlay.video.axi_vdma_0.readchannel"
   ]
  },
  {
   "cell_type": "markdown",
   "id": "3b555f0c",
   "metadata": {},
   "source": [
    "Next, the image generator DMA is configured and started:"
   ]
  },
  {
   "cell_type": "code",
   "execution_count": 5,
   "id": "fb1279de",
   "metadata": {},
   "outputs": [],
   "source": [
    "videoMode = common.VideoMode(640, 480, 24)\n",
    "imgen_vdma.mode = videoMode\n",
    "imgen_vdma.start()"
   ]
  },
  {
   "cell_type": "markdown",
   "id": "2fef7455",
   "metadata": {},
   "source": [
    "The VDMA continuously reads frames into a cycle of memory buffers. You can take software ownership of a frame and get a NumPy handle for it:"
   ]
  },
  {
   "cell_type": "code",
   "execution_count": 6,
   "id": "f59da17d",
   "metadata": {},
   "outputs": [],
   "source": [
    "frame = imgen_vdma.readframe()"
   ]
  },
  {
   "cell_type": "markdown",
   "id": "926fba9a",
   "metadata": {},
   "source": [
    "The frame can be displayed in the notebook using PiL:"
   ]
  },
  {
   "cell_type": "code",
   "execution_count": 7,
   "id": "7c3dd76a",
   "metadata": {},
   "outputs": [
    {
     "data": {
      "image/png": "[encoded data removed]",
      "text/plain": [
       "<PIL.Image.Image image mode=RGB size=640x480 at 0xA8134598>"
      ]
     },
     "execution_count": 7,
     "metadata": {},
     "output_type": "execute_result"
    }
   ],
   "source": [
    "import PIL.Image\n",
    "\n",
    "image = PIL.Image.fromarray(frame)\n",
    "image"
   ]
  },
  {
   "cell_type": "markdown",
   "id": "b35ebb3f",
   "metadata": {},
   "source": [
    "The HDMI output is handled with a wrapper object that configures both the VDMA and the HDMI output generator.\n",
    "\n",
    "A bit of hacking is needed here: the image generator and its VDMA are in the same part of the design hierarchy (`video`) as the HDMI interface. The HDMI output wrapper `overlay.video.hdmi_out` picks up the image generator VDMA, not the one connected to HDMI, so that attribute needs to be changed to point to the correct VDMA.\n",
    "\n",
    "After that, the HDMI output is configured and started:"
   ]
  },
  {
   "cell_type": "code",
   "execution_count": 8,
   "id": "9d2a3279",
   "metadata": {},
   "outputs": [
    {
     "data": {
      "text/plain": [
       "<contextlib._GeneratorContextManager at 0xa8134f70>"
      ]
     },
     "execution_count": 8,
     "metadata": {},
     "output_type": "execute_result"
    }
   ],
   "source": [
    "hdmi_out = overlay.video.hdmi_out\n",
    "hdmi_out._vdma = overlay.video.axi_vdma #Use the correct VDMA!\n",
    "hdmi_out.configure(videoMode)\n",
    "hdmi_out.start()"
   ]
  },
  {
   "cell_type": "markdown",
   "id": "c0319236",
   "metadata": {},
   "source": [
    "Now our frame can be sent to the HDMI output. At this stage ownership of the frame is transferred to the hardware, so it's no longer accessible to Python code. Connect a display to the HDMI port and you should see it."
   ]
  },
  {
   "cell_type": "code",
   "execution_count": 9,
   "id": "89470cba",
   "metadata": {},
   "outputs": [],
   "source": [
    "hdmi_out.writeframe(frame)"
   ]
  },
  {
   "cell_type": "markdown",
   "id": "4486fa82",
   "metadata": {},
   "source": [
    "Finally, stop the VDMAs so that the system is in a stable state at the end of the notebook"
   ]
  },
  {
   "cell_type": "code",
   "execution_count": 10,
   "id": "463b11d7",
   "metadata": {},
   "outputs": [],
   "source": [
    "imgen_vdma.stop()\n",
    "hdmi_out.close()"
   ]
  },
  {
   "cell_type": "markdown",
   "id": "82f92bb9",
   "metadata": {},
   "source": [
    "Todo:\n",
    "- [ ] Copy multiple frames and find frame rate\n",
    "- [ ] Link input and output for continuous video output without software control\n",
    "- [ ] Change image generator settings with MMIO"
   ]
  }
 ],
 "metadata": {
  "kernelspec": {
   "display_name": "Python 3 (ipykernel)",
   "language": "python",
   "name": "python3"
  },
  "language_info": {
   "codemirror_mode": {
    "name": "ipython",
    "version": 3
   },
   "file_extension": ".py",
   "mimetype": "text/x-python",
   "name": "python",
   "nbconvert_exporter": "python",
   "pygments_lexer": "ipython3",
   "version": "3.10.4"
  }
 },
 "nbformat": 4,
 "nbformat_minor": 5
}
